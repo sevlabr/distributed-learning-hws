{
 "cells": [
  {
   "cell_type": "markdown",
   "id": "49a3eafe",
   "metadata": {
    "slideshow": {
     "slide_type": "slide"
    }
   },
   "source": [
    "# Distributed Learning"
   ]
  },
  {
   "cell_type": "markdown",
   "id": "d4814b7f",
   "metadata": {
    "slideshow": {
     "slide_type": "slide"
    }
   },
   "source": [
    "# Who I am?\n",
    "\n",
    "- Artem Chumachenko\n",
    "- I'm DL Engineer. Worked at Yandex, VK Lab. Now Neuro.ai\n",
    "- Working with Hivemind team to make p2p distributed learning\n",
    "\n",
    "\n",
    "![](https://camo.githubusercontent.com/c0b9586f6a10f328df407b9847defd3d8df0c8cbf465cd2df92a6da3c3c8e55c/68747470733a2f2f692e696d6775722e636f6d2f4750786f6c78622e676966)"
   ]
  },
  {
   "cell_type": "markdown",
   "id": "7e8c2f9a",
   "metadata": {
    "slideshow": {
     "slide_type": "slide"
    }
   },
   "source": [
    "# Big Models\n",
    "\n",
    "![](https://s3.amazonaws.com/moonup/production/uploads/1657124309515-5f17f0a0925b9863e28ad517.png)"
   ]
  },
  {
   "cell_type": "markdown",
   "id": "e921c526",
   "metadata": {
    "slideshow": {
     "slide_type": "slide"
    }
   },
   "source": [
    "# Course\n",
    "\n",
    "- 4 lessons\n",
    "- What you have to know: standart pytorch training\n",
    "- Great if you know how any pytorch framework works"
   ]
  },
  {
   "cell_type": "markdown",
   "id": "6e1bcf7f",
   "metadata": {
    "slideshow": {
     "slide_type": "slide"
    }
   },
   "source": [
    "# Course\n",
    "\n",
    "- HW after each lesson, deadline 1 week\n",
    "- HW is a github repo\n",
    "- Benefits: on main exam of Machine Learning course have +1 point"
   ]
  },
  {
   "cell_type": "markdown",
   "id": "87d1ec7d",
   "metadata": {},
   "source": [
    "# Course\n",
    "\n",
    "Thank for @mryab and @justheuristic for examples\n",
    "\n",
    "[Course Efficient DL Systems](https://github.com/mryab/efficient-dl-systems)"
   ]
  },
  {
   "cell_type": "markdown",
   "id": "51bc5952",
   "metadata": {
    "slideshow": {
     "slide_type": "slide"
    }
   },
   "source": [
    "# Big Models\n",
    "\n",
    "- Need a lot of Video Cards\n",
    "- Need a lot of engineers\n",
    "- Need a lot of attention"
   ]
  },
  {
   "cell_type": "markdown",
   "id": "60c896f5",
   "metadata": {
    "slideshow": {
     "slide_type": "slide"
    }
   },
   "source": [
    "# Standart pipeline of the model\n",
    "\n",
    "\n",
    "- Prepare data\n",
    "- Initialize a model\n",
    "- Start train loop*\n",
    "- Save final weights"
   ]
  },
  {
   "cell_type": "markdown",
   "id": "f52e26f5",
   "metadata": {
    "slideshow": {
     "slide_type": "slide"
    }
   },
   "source": [
    "# Standart pipeline of the model\n",
    "\n",
    "\n",
    "- Prepare data\n",
    "- Initialize a model\n",
    "- Start train loop* -- make validation, train, validation, train, save checkpoint, validation, ...\n",
    "- Save final weights"
   ]
  },
  {
   "cell_type": "markdown",
   "id": "169ef5f1",
   "metadata": {},
   "source": [
    "# Standart pipeline of the model\n",
    "\n",
    "\n",
    "Let's check the example notebook: [link](https://github.com/girafe-ai/ml-course/blob/master/homeworks_basic/assignment0_05_NN_from_scratch/main_notebook.ipynb)"
   ]
  },
  {
   "cell_type": "code",
   "execution_count": null,
   "id": "9d5843f5",
   "metadata": {},
   "outputs": [],
   "source": []
  }
 ],
 "metadata": {
  "celltoolbar": "Slideshow",
  "kernelspec": {
   "display_name": "Python 3.8.10 64-bit",
   "language": "python",
   "name": "python3"
  },
  "language_info": {
   "codemirror_mode": {
    "name": "ipython",
    "version": 3
   },
   "file_extension": ".py",
   "mimetype": "text/x-python",
   "name": "python",
   "nbconvert_exporter": "python",
   "pygments_lexer": "ipython3",
   "version": "3.8.10"
  },
  "vscode": {
   "interpreter": {
    "hash": "916dbcbb3f70747c44a77c7bcd40155683ae19c65e1c03b4aa3499c5328201f1"
   }
  }
 },
 "nbformat": 4,
 "nbformat_minor": 5
}
